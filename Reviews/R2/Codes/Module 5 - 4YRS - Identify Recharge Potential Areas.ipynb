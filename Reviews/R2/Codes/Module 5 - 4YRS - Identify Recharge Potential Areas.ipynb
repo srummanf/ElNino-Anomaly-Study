{
 "cells": [
  {
   "cell_type": "code",
   "execution_count": 1,
   "id": "38ccf293-c63e-4ffd-8c1f-d01d27a2a3bd",
   "metadata": {},
   "outputs": [],
   "source": [
    "import pandas as pd\n",
    "import matplotlib.pyplot as plt\n",
    "import numpy as np\n",
    "import os\n",
    "\n"
   ]
  },
  {
   "cell_type": "code",
   "execution_count": 2,
   "id": "0554b350-5dc9-46fa-9d4e-a714a3d0f475",
   "metadata": {},
   "outputs": [],
   "source": [
    "# File paths for 2021-2024\n",
    "file_path_2021 = \"../dataset/chennai-ground-water-levels-2021.csv\"\n",
    "file_path_2022 = \"../dataset/chennai-ground-water-levels-2022.csv\"\n",
    "file_path_2023 = \"../dataset/chennai-ground-water-levels-2023.csv\"\n",
    "file_path_2024 = \"../dataset/chennai-ground-water-levels-2024.csv\"\n",
    "\n",
    "# Load datasets\n",
    "df_2021 = pd.read_csv(file_path_2021)\n",
    "df_2022 = pd.read_csv(file_path_2022)\n",
    "df_2023 = pd.read_csv(file_path_2023)\n",
    "df_2024 = pd.read_csv(file_path_2024)\n",
    "\n",
    "# List of monthly columns\n",
    "monthly_columns = [\"Jan \", \"Feb\", \"Mar\", \"Apr \", \"May\", \"Jun\", \"Jul\", \"Aug\", \"Sep\", \"Oct\", \"Nov\", \"Dec\"]\n",
    "\n"
   ]
  },
  {
   "cell_type": "code",
   "execution_count": 3,
   "id": "850f4ebb-f6a6-4880-9132-f332440774eb",
   "metadata": {},
   "outputs": [],
   "source": [
    "# Data Preparation: Ensure all datasets have necessary columns\n",
    "def prepare_data(df, year=None):\n",
    "    if year == 2024:\n",
    "        df[monthly_columns[3:]] = np.nan  # Set Apr-Dec to NaN for 2024\n",
    "    df[monthly_columns] = df[monthly_columns].apply(pd.to_numeric, errors='coerce')\n",
    "    df[\"Yearly Average\"] = df[monthly_columns].mean(axis=1)\n",
    "    return df\n",
    "\n"
   ]
  },
  {
   "cell_type": "code",
   "execution_count": 4,
   "id": "cf107169-31a9-48af-b18b-9e5cd7476ab0",
   "metadata": {},
   "outputs": [],
   "source": [
    "# Apply preparation function\n",
    "df_2021 = prepare_data(df_2021, 2021)\n",
    "df_2022 = prepare_data(df_2022, 2022)\n",
    "df_2023 = prepare_data(df_2023, 2023)\n",
    "df_2024 = prepare_data(df_2024, 2024)\n",
    "\n",
    "# Add Year Column\n",
    "df_2021[\"Year\"] = 2021\n",
    "df_2022[\"Year\"] = 2022\n",
    "df_2023[\"Year\"] = 2023\n",
    "df_2024[\"Year\"] = 2024\n",
    "\n",
    "# Combine all datasets\n",
    "df_all_years = pd.concat([df_2021, df_2022, df_2023, df_2024])\n"
   ]
  },
  {
   "cell_type": "code",
   "execution_count": 5,
   "id": "137f193c-cbc1-4a38-a682-329a5ab0241c",
   "metadata": {},
   "outputs": [],
   "source": [
    "# Step 1: Identify Wards with Significant Post-Monsoon Rises\n",
    "df_all_years[\"Post-Monsoon Rise\"] = df_all_years[\"Oct\"] - df_all_years[\"Jun\"]\n",
    "\n",
    "# Calculate mean post-monsoon rise for comparison\n",
    "mean_rise = df_all_years[\"Post-Monsoon Rise\"].mean()\n",
    "\n",
    "# Flag wards with high recharge potential\n",
    "df_all_years[\"Recharge Potential\"] = df_all_years[\"Post-Monsoon Rise\"].apply(lambda x: \"High\" if x > mean_rise else \"Low\")\n",
    "\n",
    "\n"
   ]
  },
  {
   "cell_type": "code",
   "execution_count": 6,
   "id": "310fa395-dbfb-4e24-9d09-85d971249681",
   "metadata": {},
   "outputs": [],
   "source": [
    "# Step 2: Identify Wards with Consistently Low Levels\n",
    "low_level_threshold = df_all_years[\"Yearly Average\"].quantile(0.25)\n",
    "df_all_years[\"Low Level\"] = df_all_years[\"Yearly Average\"].apply(lambda x: \"Yes\" if x < low_level_threshold else \"No\")\n",
    "\n"
   ]
  },
  {
   "cell_type": "code",
   "execution_count": null,
   "id": "4dd0355f-c71d-4615-9398-0076ff32b1e3",
   "metadata": {},
   "outputs": [],
   "source": [
    "# Step 3: Highlight Recharge Potential Areas\n",
    "recharge_areas = df_all_years[(df_all_years[\"Recharge Potential\"] == \"High\") | (df_all_years[\"Low Level\"] == \"Yes\")]\n"
   ]
  },
  {
   "cell_type": "code",
   "execution_count": null,
   "id": "e815fd89-2b96-4146-af43-6c01c24a9fad",
   "metadata": {},
   "outputs": [],
   "source": [
    "# Create directory for saving plots\n",
    "output_dir = \"recharge_potential\"\n",
    "os.makedirs(output_dir, exist_ok=True)\n",
    "\n",
    "# Step 4: Split Locations into Groups of 6\n",
    "locations = df_all_years[\"Location\"].unique()\n",
    "num_plots = int(np.ceil(len(locations) / 6))  # Calculate number of plots needed\n",
    "\n",
    "# Step 5: Loop through each year and generate plots\n",
    "years = [2021, 2022, 2023, 2024]\n",
    "for year in years:\n",
    "    df_year = df_all_years[df_all_years[\"Year\"] == year]  # Filter data for specific year\n",
    "\n",
    "    for i in range(num_plots):\n",
    "        plt.figure(figsize=(12, 6))\n",
    "\n",
    "        start_idx = i * 6\n",
    "        end_idx = min(start_idx + 6, len(locations))  # Ensure we don't exceed array bounds\n",
    "        selected_locations = locations[start_idx:end_idx]\n",
    "\n",
    "        for location in selected_locations:\n",
    "            subset = df_year[df_year[\"Location\"] == location]\n",
    "\n",
    "            if not subset.empty:  # Ensure the location exists in this year's data\n",
    "                values = subset[monthly_columns].iloc[0].values  \n",
    "                plt.plot(monthly_columns, values, marker='o', label=location)\n",
    "\n",
    "        # Prepare plot title and filename\n",
    "        plot_title = f\"Recharge Potential in {year} (Wards {start_idx + 1}-{end_idx})\"\n",
    "        plt.xlabel(\"Months\")\n",
    "        plt.ylabel(\"Groundwater Level (m)\")\n",
    "        plt.title(plot_title)\n",
    "        plt.legend(loc='upper left', bbox_to_anchor=(1.05, 1), title=\"Wards\")\n",
    "        plt.grid()\n",
    "        plt.tight_layout()\n",
    "\n",
    "        # Save plot\n",
    "        sanitized_title = plot_title.replace(\" \", \"_\").replace(\":\", \"\").replace(\"(\", \"\").replace(\")\", \"\")\n",
    "        plt.savefig(os.path.join(output_dir, f\"{sanitized_title}.png\"))\n",
    "        plt.close()"
   ]
  },
  {
   "cell_type": "code",
   "execution_count": null,
   "id": "7f6088ac-ed99-4af8-a807-394fdbb0ec02",
   "metadata": {},
   "outputs": [],
   "source": [
    "# Step 6: Visualization of Recharge Potential\n",
    "plt.figure(figsize=(12, 6))\n",
    "plt.bar(recharge_areas[\"Location\"], recharge_areas[\"Post-Monsoon Rise\"], color=\"green\", alpha=0.7, label=\"Post-Monsoon Rise\")\n",
    "plt.axhline(y=mean_rise, color=\"red\", linestyle=\"--\", label=\"Mean Post-Monsoon Rise\")\n",
    "plt.title(\"Wards with Recharge Potential\")\n",
    "plt.xlabel(\"Wards\")\n",
    "plt.ylabel(\"Post-Monsoon Rise (meters)\")\n",
    "plt.xticks(rotation=45, ha=\"right\")\n",
    "plt.legend()\n",
    "plt.grid(axis=\"y\", linestyle=\"--\", alpha=0.7)\n",
    "plt.tight_layout()\n",
    "plt.savefig(os.path.join(output_dir, \"Wards_with_Recharge_Potential.png\"))\n",
    "plt.show()\n",
    "\n",
    "# Step 7: Display Insights\n",
    "print(\"\\nWards with High Recharge Potential or Consistently Low Levels:\")\n",
    "pd.set_option('display.max_rows', None)  # Show all rows\n",
    "pd.set_option('display.max_columns', None)  # Show all columns\n",
    "print(recharge_areas[[\"Location\", \"Year\", \"Yearly Average\", \"Post-Monsoon Rise\", \"Recharge Potential\", \"Low Level\"]])\n",
    "\n",
    "# Reset Pandas display options\n",
    "pd.reset_option('display.max_rows')\n",
    "pd.reset_option('display.max_columns')\n",
    "\n",
    "# Optional: Save results to CSV\n",
    "recharge_areas.to_csv(os.path.join(output_dir, \"recharge_potential_areas.csv\"), index=False)"
   ]
  }
 ],
 "metadata": {
  "kernelspec": {
   "display_name": "Python 3 (ipykernel)",
   "language": "python",
   "name": "python3"
  },
  "language_info": {
   "codemirror_mode": {
    "name": "ipython",
    "version": 3
   },
   "file_extension": ".py",
   "mimetype": "text/x-python",
   "name": "python",
   "nbconvert_exporter": "python",
   "pygments_lexer": "ipython3",
   "version": "3.13.0"
  }
 },
 "nbformat": 4,
 "nbformat_minor": 5
}
