{
 "cells": [
  {
   "cell_type": "code",
   "execution_count": 21,
   "metadata": {},
   "outputs": [
    {
     "name": "stdout",
     "output_type": "stream",
     "text": [
      "\n",
      "📊 Groundwater Level Insights by Location:\n",
      "                         Location Area No.  min_level  max_level  avg_level  \\\n",
      "0                 Adampakkam Part      XII   2.408167   3.953333   3.022292   \n",
      "1  Adampakkam Part / Balaji Nagar      XII   3.488500   4.280000   3.879938   \n",
      "2                      Adyar East     XIII   2.216667   3.434750   2.722146   \n",
      "3                      Adyar West     XIII   2.570333   4.468750   3.214250   \n",
      "4                  Agaram (North)       VI   2.111667   3.738583   2.632292   \n",
      "\n",
      "   change_2021_2024  \n",
      "0          1.105250  \n",
      "1          0.314083  \n",
      "2         -1.218083  \n",
      "3         -1.712083  \n",
      "4         -1.215250  \n",
      "\n",
      "✅ Insights saved to: ./output/location_based_groundwater_insights.csv\n"
     ]
    }
   ],
   "source": [
    "import pandas as pd\n",
    "import numpy as np\n",
    "\n",
    "# Load processed CSV file\n",
    "input_csv = \"./output/temporal_analysis_data.csv\"\n",
    "df = pd.read_csv(input_csv)\n",
    "\n",
    "# Ensure required columns exist\n",
    "required_columns = [\"Location\", \"Area No.\", \"Yearly Average\", \"Year\"]\n",
    "for col in required_columns:\n",
    "    if col not in df.columns:\n",
    "        raise ValueError(f\"❌ Missing required column: {col}\")\n",
    "\n",
    "# **Group by Location & Area No. to analyze trends**\n",
    "grouped = df.groupby([\"Location\", \"Area No.\"])[\"Yearly Average\"].agg(\n",
    "    min_level=\"min\",\n",
    "    max_level=\"max\",\n",
    "    avg_level=\"mean\",\n",
    "    change_2021_2024=lambda x: x.iloc[-1] - x.iloc[0] if len(x) == 4 else np.nan\n",
    ").reset_index()\n",
    "\n",
    "# Save insights to CSV\n",
    "output_csv = \"./output/location_based_groundwater_insights.csv\"\n",
    "grouped.to_csv(output_csv, index=False)\n",
    "\n",
    "# **Print Summary**\n",
    "print(\"\\n📊 Groundwater Level Insights by Location:\")\n",
    "print(grouped.head())\n",
    "\n",
    "print(f\"\\n✅ Insights saved to: {output_csv}\")\n"
   ]
  }
 ],
 "metadata": {
  "language_info": {
   "name": "python"
  }
 },
 "nbformat": 4,
 "nbformat_minor": 2
}
