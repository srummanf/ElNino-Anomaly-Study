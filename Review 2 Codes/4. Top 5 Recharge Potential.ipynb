{
 "cells": [
  {
   "cell_type": "markdown",
   "id": "b84d4636-51c9-4955-8fef-11210ee509c0",
   "metadata": {},
   "source": [
    "### Python code that will analyze the recharge potential for each \"Area No.\" based on the 4-year groundwater dataset (2021-2024) and extract the top 5 locations per area with the highest recharge potential."
   ]
  },
  {
   "cell_type": "code",
   "execution_count": 1,
   "id": "7ed2eea8-e73a-4531-85f5-9515c4a2e662",
   "metadata": {},
   "outputs": [],
   "source": [
    "import pandas as pd\n",
    "import numpy as np\n",
    "import os"
   ]
  },
  {
   "cell_type": "code",
   "execution_count": 3,
   "id": "e8b466d1-5a62-464c-804b-8a0bbeafacc9",
   "metadata": {},
   "outputs": [],
   "source": [
    "# File paths for 2021-2024\n",
    "file_path_2021 = \"../dataset/chennai-ground-water-levels-2021.csv\"\n",
    "file_path_2022 = \"../dataset/chennai-ground-water-levels-2022.csv\"\n",
    "file_path_2023 = \"../dataset/chennai-ground-water-levels-2023.csv\"\n",
    "file_path_2024 = \"../dataset/chennai-ground-water-levels-2024.csv\""
   ]
  },
  {
   "cell_type": "code",
   "execution_count": 4,
   "id": "b07c5fcc-5bbd-44c6-baf7-0d6f9f62ce76",
   "metadata": {},
   "outputs": [],
   "source": [
    "# Load datasets\n",
    "df_2021 = pd.read_csv(file_path_2021)\n",
    "df_2022 = pd.read_csv(file_path_2022)\n",
    "df_2023 = pd.read_csv(file_path_2023)\n",
    "df_2024 = pd.read_csv(file_path_2024)"
   ]
  },
  {
   "cell_type": "code",
   "execution_count": 7,
   "id": "7abebaa8-ad38-4216-a873-57729741387e",
   "metadata": {},
   "outputs": [],
   "source": [
    "# List of monthly columns\n",
    "monthly_columns = [\"Jan \", \"Feb\", \"Mar\", \"Apr \", \"May\", \"Jun\", \n",
    "                   \"Jul\", \"Aug\", \"Sep\", \"Oct\", \"Nov\", \"Dec\"]"
   ]
  },
  {
   "cell_type": "code",
   "execution_count": 6,
   "id": "e193f075-b9fb-4e3e-81dd-0ac311b608b0",
   "metadata": {},
   "outputs": [],
   "source": [
    "# Data Preparation: Ensure all datasets have necessary columns\n",
    "def prepare_data(df, year=None):\n",
    "    if year == 2024:\n",
    "        df[monthly_columns[3:]] = np.nan  # Set Apr-Dec to NaN for 2024\n",
    "    df[monthly_columns] = df[monthly_columns].apply(pd.to_numeric, errors='coerce')\n",
    "    df[\"Yearly Average\"] = df[monthly_columns].mean(axis=1)\n",
    "    return df"
   ]
  },
  {
   "cell_type": "code",
   "execution_count": 8,
   "id": "961f9db7-195b-4409-9ab0-d7a00efa9986",
   "metadata": {},
   "outputs": [],
   "source": [
    "# Apply preparation function\n",
    "df_2021 = prepare_data(df_2021, 2021)\n",
    "df_2022 = prepare_data(df_2022, 2022)\n",
    "df_2023 = prepare_data(df_2023, 2023)\n",
    "df_2024 = prepare_data(df_2024, 2024)\n",
    "\n",
    "# Add Year Column\n",
    "df_2021[\"Year\"] = 2021\n",
    "df_2022[\"Year\"] = 2022\n",
    "df_2023[\"Year\"] = 2023\n",
    "df_2024[\"Year\"] = 2024\n",
    "\n",
    "# Combine all datasets\n",
    "df_all_years = pd.concat([df_2021, df_2022, df_2023, df_2024])"
   ]
  },
  {
   "cell_type": "code",
   "execution_count": 10,
   "id": "b74eb4e9-9a87-406b-9420-e281ba047f54",
   "metadata": {},
   "outputs": [],
   "source": [
    "# Step 1: Identify Wards with Significant Post-Monsoon Rises\n",
    "df_all_years[\"Post-Monsoon Rise\"] = df_all_years[\"Oct\"] - df_all_years[\"Jun\"]\n",
    "# Compute mean post-monsoon rise\n",
    "mean_rise = df_all_years.groupby(\"Year\")[\"Post-Monsoon Rise\"].mean()"
   ]
  },
  {
   "cell_type": "code",
   "execution_count": 11,
   "id": "0e537383-448b-4100-b2a9-7996fd9bba70",
   "metadata": {},
   "outputs": [],
   "source": [
    "# Flag wards with significant rises (greater than yearly mean rise)\n",
    "df_all_years[\"Recharge Potential\"] = df_all_years.apply(\n",
    "    lambda row: \"High\" if row[\"Post-Monsoon Rise\"] > mean_rise[row[\"Year\"]] else \"Low\", axis=1\n",
    ")"
   ]
  },
  {
   "cell_type": "code",
   "execution_count": 12,
   "id": "1762c324-fe8b-4abf-bcef-f5e840d4ac02",
   "metadata": {},
   "outputs": [],
   "source": [
    "# Compute overall recharge potential score (average across years)\n",
    "recharge_potential_scores = df_all_years.groupby([\"Location\", \"Area No.\"])[\"Post-Monsoon Rise\"].mean().reset_index()"
   ]
  },
  {
   "cell_type": "code",
   "execution_count": 13,
   "id": "0c3e744d-bd0c-479a-9f22-889ea45136dc",
   "metadata": {},
   "outputs": [],
   "source": [
    "# Rank locations within each \"Area No.\" based on recharge potential\n",
    "recharge_potential_scores[\"Rank\"] = recharge_potential_scores.groupby(\"Area No.\")[\"Post-Monsoon Rise\"].rank(ascending=False)"
   ]
  },
  {
   "cell_type": "code",
   "execution_count": 14,
   "id": "5c359be9-6436-4e62-b505-61792f6a0e33",
   "metadata": {},
   "outputs": [
    {
     "name": "stdout",
     "output_type": "stream",
     "text": [
      "Top 5 Locations in Each 'Area No.' with Highest Recharge Potential:\n",
      "                Location Area No.  Post-Monsoon Rise  Rank\n",
      "0             Sathankadu        I           1.569333   1.0\n",
      "1   Chinna Mettupalaiyam        I           0.140333   2.0\n",
      "2         Thilagar Nagar        I           0.096333   3.0\n",
      "3            Kathivakkam        I          -0.066000   4.0\n",
      "4               Ernavoor        I          -0.075333   5.0\n",
      "..                   ...      ...                ...   ...\n",
      "65               Uthandi       XV           1.183333   1.0\n",
      "66           Neelankarai       XV           0.143500   2.0\n",
      "67  Okkiyam Thuraipakkam       XV          -0.232667   3.0\n",
      "68           Injampakkam       XV          -0.296000   4.0\n",
      "69           Semmenchery       XV          -0.508333   5.0\n",
      "\n",
      "[70 rows x 4 columns]\n"
     ]
    },
    {
     "name": "stderr",
     "output_type": "stream",
     "text": [
      "C:\\Users\\rumma\\AppData\\Local\\Temp\\ipykernel_5192\\640185364.py:2: DeprecationWarning: DataFrameGroupBy.apply operated on the grouping columns. This behavior is deprecated, and in a future version of pandas the grouping columns will be excluded from the operation. Either pass `include_groups=False` to exclude the groupings or explicitly select the grouping columns after groupby to silence this warning.\n",
      "  top_recharge_locations = recharge_potential_scores.groupby(\"Area No.\").apply(lambda x: x.nsmallest(5, \"Rank\")).reset_index(drop=True)\n"
     ]
    }
   ],
   "source": [
    "# Get top 5 locations per \"Area No.\"\n",
    "top_recharge_locations = recharge_potential_scores.groupby(\"Area No.\").apply(lambda x: x.nsmallest(5, \"Rank\")).reset_index(drop=True)\n",
    "\n",
    "# Display results\n",
    "print(\"Top 5 Locations in Each 'Area No.' with Highest Recharge Potential:\")\n",
    "print(top_recharge_locations)"
   ]
  },
  {
   "cell_type": "code",
   "execution_count": 16,
   "id": "b72c9703-9527-4252-8861-dbb021e76f72",
   "metadata": {},
   "outputs": [
    {
     "name": "stdout",
     "output_type": "stream",
     "text": [
      "Results saved to ./top_recharge_potential_locations.csv\n"
     ]
    }
   ],
   "source": [
    "# Save to CSV for further analysis\n",
    "output_file = \"./top_recharge_potential_locations.csv\"\n",
    "top_recharge_locations.to_csv(output_file, index=False)\n",
    "print(f\"Results saved to {output_file}\")"
   ]
  },
  {
   "cell_type": "code",
   "execution_count": null,
   "id": "aa984d49-6d6d-4257-9cad-08b9a831a694",
   "metadata": {},
   "outputs": [],
   "source": []
  }
 ],
 "metadata": {
  "kernelspec": {
   "display_name": "Python 3 (ipykernel)",
   "language": "python",
   "name": "python3"
  },
  "language_info": {
   "codemirror_mode": {
    "name": "ipython",
    "version": 3
   },
   "file_extension": ".py",
   "mimetype": "text/x-python",
   "name": "python",
   "nbconvert_exporter": "python",
   "pygments_lexer": "ipython3",
   "version": "3.13.0"
  }
 },
 "nbformat": 4,
 "nbformat_minor": 5
}
